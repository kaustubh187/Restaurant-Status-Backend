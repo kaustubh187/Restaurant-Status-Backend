{
 "cells": [
  {
   "cell_type": "code",
   "execution_count": 1,
   "metadata": {},
   "outputs": [],
   "source": [
    "import pandas as pd"
   ]
  },
  {
   "cell_type": "code",
   "execution_count": 2,
   "metadata": {},
   "outputs": [],
   "source": [
    "status_rest = pd.read_csv('bq-results-20230125-202210-1674678181880.csv')"
   ]
  },
  {
   "cell_type": "code",
   "execution_count": 4,
   "metadata": {},
   "outputs": [],
   "source": [
    "hours_local = pd.read_csv(\"Menu hours.csv\")\n",
    "time_zones = pd.read_csv(\"store status.csv\")"
   ]
  },
  {
   "cell_type": "code",
   "execution_count": 7,
   "metadata": {},
   "outputs": [
    {
     "data": {
      "text/html": [
       "<div>\n",
       "<style scoped>\n",
       "    .dataframe tbody tr th:only-of-type {\n",
       "        vertical-align: middle;\n",
       "    }\n",
       "\n",
       "    .dataframe tbody tr th {\n",
       "        vertical-align: top;\n",
       "    }\n",
       "\n",
       "    .dataframe thead th {\n",
       "        text-align: right;\n",
       "    }\n",
       "</style>\n",
       "<table border=\"1\" class=\"dataframe\">\n",
       "  <thead>\n",
       "    <tr style=\"text-align: right;\">\n",
       "      <th></th>\n",
       "      <th>store_id</th>\n",
       "      <th>timezone_str</th>\n",
       "    </tr>\n",
       "  </thead>\n",
       "  <tbody>\n",
       "    <tr>\n",
       "      <th>0</th>\n",
       "      <td>8139926242460185114</td>\n",
       "      <td>Asia/Beirut</td>\n",
       "    </tr>\n",
       "    <tr>\n",
       "      <th>1</th>\n",
       "      <td>5415949628544298339</td>\n",
       "      <td>America/Boise</td>\n",
       "    </tr>\n",
       "    <tr>\n",
       "      <th>2</th>\n",
       "      <td>3408529570017053440</td>\n",
       "      <td>America/Denver</td>\n",
       "    </tr>\n",
       "    <tr>\n",
       "      <th>3</th>\n",
       "      <td>9055649751952768824</td>\n",
       "      <td>America/Denver</td>\n",
       "    </tr>\n",
       "    <tr>\n",
       "      <th>4</th>\n",
       "      <td>4428372089193592098</td>\n",
       "      <td>America/Denver</td>\n",
       "    </tr>\n",
       "    <tr>\n",
       "      <th>5</th>\n",
       "      <td>2689959411535120475</td>\n",
       "      <td>America/Denver</td>\n",
       "    </tr>\n",
       "    <tr>\n",
       "      <th>6</th>\n",
       "      <td>8297996490922435741</td>\n",
       "      <td>America/Denver</td>\n",
       "    </tr>\n",
       "    <tr>\n",
       "      <th>7</th>\n",
       "      <td>1050565545391667097</td>\n",
       "      <td>America/Denver</td>\n",
       "    </tr>\n",
       "    <tr>\n",
       "      <th>8</th>\n",
       "      <td>3483930781272060942</td>\n",
       "      <td>America/Denver</td>\n",
       "    </tr>\n",
       "    <tr>\n",
       "      <th>9</th>\n",
       "      <td>1740222068509982431</td>\n",
       "      <td>America/Denver</td>\n",
       "    </tr>\n",
       "  </tbody>\n",
       "</table>\n",
       "</div>"
      ],
      "text/plain": [
       "              store_id    timezone_str\n",
       "0  8139926242460185114     Asia/Beirut\n",
       "1  5415949628544298339   America/Boise\n",
       "2  3408529570017053440  America/Denver\n",
       "3  9055649751952768824  America/Denver\n",
       "4  4428372089193592098  America/Denver\n",
       "5  2689959411535120475  America/Denver\n",
       "6  8297996490922435741  America/Denver\n",
       "7  1050565545391667097  America/Denver\n",
       "8  3483930781272060942  America/Denver\n",
       "9  1740222068509982431  America/Denver"
      ]
     },
     "execution_count": 7,
     "metadata": {},
     "output_type": "execute_result"
    }
   ],
   "source": [
    "status_rest.head(10)"
   ]
  },
  {
   "cell_type": "code",
   "execution_count": 5,
   "metadata": {},
   "outputs": [
    {
     "data": {
      "text/html": [
       "<div>\n",
       "<style scoped>\n",
       "    .dataframe tbody tr th:only-of-type {\n",
       "        vertical-align: middle;\n",
       "    }\n",
       "\n",
       "    .dataframe tbody tr th {\n",
       "        vertical-align: top;\n",
       "    }\n",
       "\n",
       "    .dataframe thead th {\n",
       "        text-align: right;\n",
       "    }\n",
       "</style>\n",
       "<table border=\"1\" class=\"dataframe\">\n",
       "  <thead>\n",
       "    <tr style=\"text-align: right;\">\n",
       "      <th></th>\n",
       "      <th>store_id</th>\n",
       "      <th>day</th>\n",
       "      <th>start_time_local</th>\n",
       "      <th>end_time_local</th>\n",
       "    </tr>\n",
       "  </thead>\n",
       "  <tbody>\n",
       "    <tr>\n",
       "      <th>0</th>\n",
       "      <td>1481966498820158979</td>\n",
       "      <td>4</td>\n",
       "      <td>00:00:00</td>\n",
       "      <td>00:10:00</td>\n",
       "    </tr>\n",
       "    <tr>\n",
       "      <th>1</th>\n",
       "      <td>1481966498820158979</td>\n",
       "      <td>2</td>\n",
       "      <td>00:00:00</td>\n",
       "      <td>00:10:00</td>\n",
       "    </tr>\n",
       "    <tr>\n",
       "      <th>2</th>\n",
       "      <td>1481966498820158979</td>\n",
       "      <td>0</td>\n",
       "      <td>00:00:00</td>\n",
       "      <td>00:10:00</td>\n",
       "    </tr>\n",
       "    <tr>\n",
       "      <th>3</th>\n",
       "      <td>1481966498820158979</td>\n",
       "      <td>1</td>\n",
       "      <td>00:00:00</td>\n",
       "      <td>00:10:00</td>\n",
       "    </tr>\n",
       "    <tr>\n",
       "      <th>4</th>\n",
       "      <td>1481966498820158979</td>\n",
       "      <td>5</td>\n",
       "      <td>00:00:00</td>\n",
       "      <td>00:10:00</td>\n",
       "    </tr>\n",
       "    <tr>\n",
       "      <th>5</th>\n",
       "      <td>1481966498820158979</td>\n",
       "      <td>3</td>\n",
       "      <td>00:00:00</td>\n",
       "      <td>00:10:00</td>\n",
       "    </tr>\n",
       "  </tbody>\n",
       "</table>\n",
       "</div>"
      ],
      "text/plain": [
       "              store_id  day start_time_local end_time_local\n",
       "0  1481966498820158979    4         00:00:00       00:10:00\n",
       "1  1481966498820158979    2         00:00:00       00:10:00\n",
       "2  1481966498820158979    0         00:00:00       00:10:00\n",
       "3  1481966498820158979    1         00:00:00       00:10:00\n",
       "4  1481966498820158979    5         00:00:00       00:10:00\n",
       "5  1481966498820158979    3         00:00:00       00:10:00"
      ]
     },
     "execution_count": 5,
     "metadata": {},
     "output_type": "execute_result"
    }
   ],
   "source": [
    "hours_local.head(6)"
   ]
  },
  {
   "cell_type": "code",
   "execution_count": 26,
   "metadata": {},
   "outputs": [
    {
     "data": {
      "text/html": [
       "<div>\n",
       "<style scoped>\n",
       "    .dataframe tbody tr th:only-of-type {\n",
       "        vertical-align: middle;\n",
       "    }\n",
       "\n",
       "    .dataframe tbody tr th {\n",
       "        vertical-align: top;\n",
       "    }\n",
       "\n",
       "    .dataframe thead th {\n",
       "        text-align: right;\n",
       "    }\n",
       "</style>\n",
       "<table border=\"1\" class=\"dataframe\">\n",
       "  <thead>\n",
       "    <tr style=\"text-align: right;\">\n",
       "      <th></th>\n",
       "      <th>store_id</th>\n",
       "      <th>status</th>\n",
       "      <th>timestamp_utc</th>\n",
       "    </tr>\n",
       "  </thead>\n",
       "  <tbody>\n",
       "    <tr>\n",
       "      <th>0</th>\n",
       "      <td>8419537941919820732</td>\n",
       "      <td>active</td>\n",
       "      <td>2023-01-22 12:09:39.388884 UTC</td>\n",
       "    </tr>\n",
       "    <tr>\n",
       "      <th>1</th>\n",
       "      <td>54515546588432327</td>\n",
       "      <td>active</td>\n",
       "      <td>2023-01-24 09:06:42.605777 UTC</td>\n",
       "    </tr>\n",
       "    <tr>\n",
       "      <th>2</th>\n",
       "      <td>8377465688456570187</td>\n",
       "      <td>active</td>\n",
       "      <td>2023-01-24 09:07:26.441407 UTC</td>\n",
       "    </tr>\n",
       "    <tr>\n",
       "      <th>3</th>\n",
       "      <td>5955337179846162144</td>\n",
       "      <td>active</td>\n",
       "      <td>2023-01-24 09:08:07.634899 UTC</td>\n",
       "    </tr>\n",
       "    <tr>\n",
       "      <th>4</th>\n",
       "      <td>1169347689335808384</td>\n",
       "      <td>active</td>\n",
       "      <td>2023-01-24 09:08:18.436854 UTC</td>\n",
       "    </tr>\n",
       "    <tr>\n",
       "      <th>...</th>\n",
       "      <td>...</td>\n",
       "      <td>...</td>\n",
       "      <td>...</td>\n",
       "    </tr>\n",
       "    <tr>\n",
       "      <th>995</th>\n",
       "      <td>4581996310120046851</td>\n",
       "      <td>active</td>\n",
       "      <td>2023-01-19 18:17:03.212763 UTC</td>\n",
       "    </tr>\n",
       "    <tr>\n",
       "      <th>996</th>\n",
       "      <td>1209402228564517444</td>\n",
       "      <td>active</td>\n",
       "      <td>2023-01-19 18:10:42.117818 UTC</td>\n",
       "    </tr>\n",
       "    <tr>\n",
       "      <th>997</th>\n",
       "      <td>3981100817087735334</td>\n",
       "      <td>active</td>\n",
       "      <td>2023-01-19 18:05:51.455184 UTC</td>\n",
       "    </tr>\n",
       "    <tr>\n",
       "      <th>998</th>\n",
       "      <td>4113789786207506299</td>\n",
       "      <td>active</td>\n",
       "      <td>2023-01-19 18:15:32.021276 UTC</td>\n",
       "    </tr>\n",
       "    <tr>\n",
       "      <th>999</th>\n",
       "      <td>3243389630626839262</td>\n",
       "      <td>active</td>\n",
       "      <td>2023-01-25 12:06:07.895388 UTC</td>\n",
       "    </tr>\n",
       "  </tbody>\n",
       "</table>\n",
       "<p>1000 rows × 3 columns</p>\n",
       "</div>"
      ],
      "text/plain": [
       "                store_id  status                   timestamp_utc\n",
       "0    8419537941919820732  active  2023-01-22 12:09:39.388884 UTC\n",
       "1      54515546588432327  active  2023-01-24 09:06:42.605777 UTC\n",
       "2    8377465688456570187  active  2023-01-24 09:07:26.441407 UTC\n",
       "3    5955337179846162144  active  2023-01-24 09:08:07.634899 UTC\n",
       "4    1169347689335808384  active  2023-01-24 09:08:18.436854 UTC\n",
       "..                   ...     ...                             ...\n",
       "995  4581996310120046851  active  2023-01-19 18:17:03.212763 UTC\n",
       "996  1209402228564517444  active  2023-01-19 18:10:42.117818 UTC\n",
       "997  3981100817087735334  active  2023-01-19 18:05:51.455184 UTC\n",
       "998  4113789786207506299  active  2023-01-19 18:15:32.021276 UTC\n",
       "999  3243389630626839262  active  2023-01-25 12:06:07.895388 UTC\n",
       "\n",
       "[1000 rows x 3 columns]"
      ]
     },
     "execution_count": 26,
     "metadata": {},
     "output_type": "execute_result"
    }
   ],
   "source": [
    "time_zones.head(1000)"
   ]
  },
  {
   "cell_type": "code",
   "execution_count": 11,
   "metadata": {},
   "outputs": [
    {
     "data": {
      "text/plain": [
       "14092"
      ]
     },
     "execution_count": 11,
     "metadata": {},
     "output_type": "execute_result"
    }
   ],
   "source": [
    "time_zones['store_id'].nunique()"
   ]
  },
  {
   "cell_type": "code",
   "execution_count": 41,
   "metadata": {},
   "outputs": [],
   "source": [
    "df = time_zones.iloc[:100]"
   ]
  },
  {
   "cell_type": "code",
   "execution_count": 25,
   "metadata": {},
   "outputs": [
    {
     "data": {
      "text/plain": [
       "'2023-01-25 18:13:22.47922 UTC'"
      ]
     },
     "execution_count": 25,
     "metadata": {},
     "output_type": "execute_result"
    }
   ],
   "source": [
    "max_timestamp = time_zones['timestamp_utc'].max()\n",
    "\n",
    "max_timestamp"
   ]
  },
  {
   "cell_type": "code",
   "execution_count": 52,
   "metadata": {},
   "outputs": [],
   "source": [
    "df = df.copy()\n",
    "df['timestamp_utc'] = pd.to_datetime(df['timestamp_utc'], errors='coerce')"
   ]
  },
  {
   "cell_type": "code",
   "execution_count": 59,
   "metadata": {},
   "outputs": [],
   "source": [
    "df['timestamp_utc'] = pd.to_datetime(df['timestamp_utc'], errors='coerce')"
   ]
  },
  {
   "cell_type": "code",
   "execution_count": 64,
   "metadata": {},
   "outputs": [
    {
     "data": {
      "text/plain": [
       "array(['2023-01-22T12:09:39.388884000', '2023-01-24T09:06:42.605777000',\n",
       "       '2023-01-24T09:07:26.441407000', '2023-01-24T09:08:07.634899000',\n",
       "       '2023-01-24T09:08:18.436854000', '2023-01-24T09:08:23.138922000',\n",
       "       '2023-01-24T09:09:37.456563000', '2023-01-24T09:09:58.684489000',\n",
       "       '2023-01-24T09:10:28.873707000', '2023-01-19T06:07:21.331383000',\n",
       "       '2023-01-24T14:01:52.138196000', '2023-01-25T13:04:00.152582000',\n",
       "       '2023-01-21T16:00:49.465440000', '2023-01-21T16:01:36.311245000',\n",
       "       '2023-01-21T16:02:05.815869000', '2023-01-21T16:02:13.198837000',\n",
       "       '2023-01-20T17:04:14.098493000', '2023-01-21T17:15:29.921161000',\n",
       "       '2023-01-21T17:15:36.013705000', '2023-01-21T17:15:39.285005000',\n",
       "       '2023-01-21T17:15:43.777556000', '2023-01-24T05:58:13.493839000',\n",
       "       '2023-01-24T05:58:22.253512000', '2023-01-24T05:58:35.019985000',\n",
       "       '2023-01-24T05:59:35.717711000', '2023-01-24T06:00:06.282107000',\n",
       "       '2023-01-24T06:00:09.856329000', '2023-01-24T06:01:30.549983000',\n",
       "       '2023-01-24T06:01:48.829267000', '2023-01-24T06:02:06.671383000',\n",
       "       '2023-01-24T08:08:22.366068000', '2023-01-24T08:09:45.795033000',\n",
       "       '2023-01-24T08:10:02.700743000', '2023-01-24T08:10:33.505185000',\n",
       "       '2023-01-24T09:00:46.942944000', '2023-01-24T09:01:32.991896000',\n",
       "       '2023-01-24T09:01:33.080280000', '2023-01-24T09:01:46.901535000',\n",
       "       '2023-01-25T17:01:33.087290000', '2023-01-25T17:01:47.001499000',\n",
       "       '2023-01-25T17:03:15.216687000', '2023-01-25T17:04:28.386537000',\n",
       "       '2023-01-25T17:13:14.314139000', '2023-01-25T17:14:39.546335000',\n",
       "       '2023-01-22T13:01:57.541752000', '2023-01-22T13:02:23.320530000',\n",
       "       '2023-01-24T17:02:46.924337000', '2023-01-24T17:03:38.648073000',\n",
       "       '2023-01-24T17:03:39.528946000', '2023-01-24T13:04:52.996699000',\n",
       "       '2023-01-24T13:06:07.451867000', '2023-01-25T07:12:14.807753000',\n",
       "       '2023-01-25T08:01:11.304168000', '2023-01-25T08:01:25.493818000',\n",
       "       '2023-01-25T08:03:35.488792000', '2023-01-24T19:04:58.044409000',\n",
       "       '2023-01-24T19:05:06.491585000', '2023-01-24T19:08:20.564245000',\n",
       "       '2023-01-21T23:03:19.159515000', '2023-01-25T03:02:21.151826000',\n",
       "       '2023-01-25T15:01:08.851420000', '2023-01-25T15:01:26.666202000',\n",
       "       '2023-01-25T15:02:37.736233000', '2023-01-24T22:04:47.935159000',\n",
       "       '2023-01-24T22:05:30.813682000', '2023-01-24T22:05:32.597802000',\n",
       "       '2023-01-24T22:05:34.178899000', '2023-01-24T22:06:09.810504000',\n",
       "       '2023-01-24T22:06:21.237524000', '2023-01-24T22:07:09.690768000',\n",
       "       '2023-01-19T20:10:40.154540000', '2023-01-24T23:00:37.675951000',\n",
       "       '2023-01-24T23:01:00.176339000', '2023-01-24T23:01:12.178654000',\n",
       "       '2023-01-24T23:01:20.331624000', '2023-01-24T23:01:26.483115000',\n",
       "       '2023-01-25T10:12:16.118661000', '2023-01-25T11:02:42.259213000',\n",
       "       '2023-01-25T11:03:07.295786000', '2023-01-25T11:03:29.467753000',\n",
       "       '2023-01-25T11:04:58.483557000', '2023-01-25T11:05:45.587390000',\n",
       "       '2023-01-25T11:05:57.750103000', '2023-01-19T17:00:27.412409000',\n",
       "       '2023-01-19T17:00:34.642318000', '2023-01-19T17:00:39.388891000',\n",
       "       '2023-01-19T17:03:03.899355000', '2023-01-19T17:04:28.588741000',\n",
       "       '2023-01-25T13:06:39.780262000', '2023-01-25T13:06:44.992108000',\n",
       "       '2023-01-25T13:08:44.604298000', '2023-01-25T14:00:48.208054000',\n",
       "       '2023-01-25T14:03:41.134291000', '2023-01-25T14:05:58.143832000',\n",
       "       '2023-01-24T05:54:49.493789000', '2023-01-24T05:54:54.692658000',\n",
       "       '2023-01-24T05:57:10.818206000', '2023-01-24T05:57:28.659871000',\n",
       "       '2023-01-20T14:04:55.444182000', '2023-01-20T14:04:55.899763000'],\n",
       "      dtype='datetime64[ns]')"
      ]
     },
     "execution_count": 64,
     "metadata": {},
     "output_type": "execute_result"
    }
   ],
   "source": [
    "df['timestamp_utc'].unique()"
   ]
  },
  {
   "cell_type": "code",
   "execution_count": 53,
   "metadata": {},
   "outputs": [
    {
     "ename": "TypeError",
     "evalue": "Invalid comparison between dtype=datetime64[ns] and Timestamp",
     "output_type": "error",
     "traceback": [
      "\u001b[1;31m---------------------------------------------------------------------------\u001b[0m",
      "\u001b[1;31mTypeError\u001b[0m                                 Traceback (most recent call last)",
      "File \u001b[1;32mc:\\python 310\\lib\\site-packages\\pandas\\core\\arrays\\datetimelike.py:540\u001b[0m, in \u001b[0;36mDatetimeLikeArrayMixin._validate_comparison_value\u001b[1;34m(self, other)\u001b[0m\n\u001b[0;32m    539\u001b[0m \u001b[39mtry\u001b[39;00m:\n\u001b[1;32m--> 540\u001b[0m     \u001b[39mself\u001b[39;49m\u001b[39m.\u001b[39;49m_check_compatible_with(other)\n\u001b[0;32m    541\u001b[0m \u001b[39mexcept\u001b[39;00m (\u001b[39mTypeError\u001b[39;00m, IncompatibleFrequency) \u001b[39mas\u001b[39;00m err:\n\u001b[0;32m    542\u001b[0m     \u001b[39m# e.g. tzawareness mismatch\u001b[39;00m\n",
      "File \u001b[1;32mc:\\python 310\\lib\\site-packages\\pandas\\core\\arrays\\datetimes.py:502\u001b[0m, in \u001b[0;36mDatetimeArray._check_compatible_with\u001b[1;34m(self, other, setitem)\u001b[0m\n\u001b[0;32m    501\u001b[0m     \u001b[39mreturn\u001b[39;00m\n\u001b[1;32m--> 502\u001b[0m \u001b[39mself\u001b[39;49m\u001b[39m.\u001b[39;49m_assert_tzawareness_compat(other)\n\u001b[0;32m    503\u001b[0m \u001b[39mif\u001b[39;00m setitem:\n\u001b[0;32m    504\u001b[0m     \u001b[39m# Stricter check for setitem vs comparison methods\u001b[39;00m\n",
      "File \u001b[1;32mc:\\python 310\\lib\\site-packages\\pandas\\core\\arrays\\datetimes.py:691\u001b[0m, in \u001b[0;36mDatetimeArray._assert_tzawareness_compat\u001b[1;34m(self, other)\u001b[0m\n\u001b[0;32m    690\u001b[0m     \u001b[39mif\u001b[39;00m other_tz \u001b[39mis\u001b[39;00m \u001b[39mnot\u001b[39;00m \u001b[39mNone\u001b[39;00m:\n\u001b[1;32m--> 691\u001b[0m         \u001b[39mraise\u001b[39;00m \u001b[39mTypeError\u001b[39;00m(\n\u001b[0;32m    692\u001b[0m             \u001b[39m\"\u001b[39m\u001b[39mCannot compare tz-naive and tz-aware datetime-like objects.\u001b[39m\u001b[39m\"\u001b[39m\n\u001b[0;32m    693\u001b[0m         )\n\u001b[0;32m    694\u001b[0m \u001b[39melif\u001b[39;00m other_tz \u001b[39mis\u001b[39;00m \u001b[39mNone\u001b[39;00m:\n",
      "\u001b[1;31mTypeError\u001b[0m: Cannot compare tz-naive and tz-aware datetime-like objects.",
      "\nThe above exception was the direct cause of the following exception:\n",
      "\u001b[1;31mInvalidComparison\u001b[0m                         Traceback (most recent call last)",
      "File \u001b[1;32mc:\\python 310\\lib\\site-packages\\pandas\\core\\arrays\\datetimelike.py:1008\u001b[0m, in \u001b[0;36mDatetimeLikeArrayMixin._cmp_method\u001b[1;34m(self, other, op)\u001b[0m\n\u001b[0;32m   1007\u001b[0m \u001b[39mtry\u001b[39;00m:\n\u001b[1;32m-> 1008\u001b[0m     other \u001b[39m=\u001b[39m \u001b[39mself\u001b[39;49m\u001b[39m.\u001b[39;49m_validate_comparison_value(other)\n\u001b[0;32m   1009\u001b[0m \u001b[39mexcept\u001b[39;00m InvalidComparison:\n",
      "File \u001b[1;32mc:\\python 310\\lib\\site-packages\\pandas\\core\\arrays\\datetimelike.py:543\u001b[0m, in \u001b[0;36mDatetimeLikeArrayMixin._validate_comparison_value\u001b[1;34m(self, other)\u001b[0m\n\u001b[0;32m    541\u001b[0m     \u001b[39mexcept\u001b[39;00m (\u001b[39mTypeError\u001b[39;00m, IncompatibleFrequency) \u001b[39mas\u001b[39;00m err:\n\u001b[0;32m    542\u001b[0m         \u001b[39m# e.g. tzawareness mismatch\u001b[39;00m\n\u001b[1;32m--> 543\u001b[0m         \u001b[39mraise\u001b[39;00m InvalidComparison(other) \u001b[39mfrom\u001b[39;00m \u001b[39merr\u001b[39;00m\n\u001b[0;32m    545\u001b[0m \u001b[39melif\u001b[39;00m \u001b[39mnot\u001b[39;00m is_list_like(other):\n",
      "\u001b[1;31mInvalidComparison\u001b[0m: 2023-01-25 08:59:59.479220+00:00",
      "\nDuring handling of the above exception, another exception occurred:\n",
      "\u001b[1;31mTypeError\u001b[0m                                 Traceback (most recent call last)",
      "\u001b[1;32mc:\\Users\\91965\\Downloads\\loopkitchen\\test.ipynb Cell 11\u001b[0m in \u001b[0;36m<module>\u001b[1;34m\u001b[0m\n\u001b[0;32m      <a href='vscode-notebook-cell:/c%3A/Users/91965/Downloads/loopkitchen/test.ipynb#X13sZmlsZQ%3D%3D?line=1'>2</a>\u001b[0m start_of_last_hour \u001b[39m=\u001b[39m current_time \u001b[39m-\u001b[39m pd\u001b[39m.\u001b[39mDateOffset(hours\u001b[39m=\u001b[39m\u001b[39m10\u001b[39m)\n\u001b[0;32m      <a href='vscode-notebook-cell:/c%3A/Users/91965/Downloads/loopkitchen/test.ipynb#X13sZmlsZQ%3D%3D?line=2'>3</a>\u001b[0m start_of_last_hour \u001b[39m=\u001b[39m pd\u001b[39m.\u001b[39mto_datetime(start_of_last_hour)\n\u001b[1;32m----> <a href='vscode-notebook-cell:/c%3A/Users/91965/Downloads/loopkitchen/test.ipynb#X13sZmlsZQ%3D%3D?line=3'>4</a>\u001b[0m mask \u001b[39m=\u001b[39m (df[\u001b[39m'\u001b[39m\u001b[39mstore_id\u001b[39m\u001b[39m'\u001b[39m] \u001b[39m==\u001b[39m \u001b[39m3243389630626839262\u001b[39m) \u001b[39m&\u001b[39m (df[\u001b[39m'\u001b[39;49m\u001b[39mtimestamp_utc\u001b[39;49m\u001b[39m'\u001b[39;49m] \u001b[39m>\u001b[39;49m\u001b[39m=\u001b[39;49m start_of_last_hour)\n\u001b[0;32m      <a href='vscode-notebook-cell:/c%3A/Users/91965/Downloads/loopkitchen/test.ipynb#X13sZmlsZQ%3D%3D?line=4'>5</a>\u001b[0m filtered_df \u001b[39m=\u001b[39m df[mask]\n",
      "File \u001b[1;32mc:\\python 310\\lib\\site-packages\\pandas\\core\\ops\\common.py:69\u001b[0m, in \u001b[0;36m_unpack_zerodim_and_defer.<locals>.new_method\u001b[1;34m(self, other)\u001b[0m\n\u001b[0;32m     65\u001b[0m             \u001b[39mreturn\u001b[39;00m \u001b[39mNotImplemented\u001b[39m\n\u001b[0;32m     67\u001b[0m other \u001b[39m=\u001b[39m item_from_zerodim(other)\n\u001b[1;32m---> 69\u001b[0m \u001b[39mreturn\u001b[39;00m method(\u001b[39mself\u001b[39;49m, other)\n",
      "File \u001b[1;32mc:\\python 310\\lib\\site-packages\\pandas\\core\\arraylike.py:52\u001b[0m, in \u001b[0;36mOpsMixin.__ge__\u001b[1;34m(self, other)\u001b[0m\n\u001b[0;32m     50\u001b[0m \u001b[39m@unpack_zerodim_and_defer\u001b[39m(\u001b[39m\"\u001b[39m\u001b[39m__ge__\u001b[39m\u001b[39m\"\u001b[39m)\n\u001b[0;32m     51\u001b[0m \u001b[39mdef\u001b[39;00m \u001b[39m__ge__\u001b[39m(\u001b[39mself\u001b[39m, other):\n\u001b[1;32m---> 52\u001b[0m     \u001b[39mreturn\u001b[39;00m \u001b[39mself\u001b[39;49m\u001b[39m.\u001b[39;49m_cmp_method(other, operator\u001b[39m.\u001b[39;49mge)\n",
      "File \u001b[1;32mc:\\python 310\\lib\\site-packages\\pandas\\core\\series.py:5502\u001b[0m, in \u001b[0;36mSeries._cmp_method\u001b[1;34m(self, other, op)\u001b[0m\n\u001b[0;32m   5499\u001b[0m rvalues \u001b[39m=\u001b[39m extract_array(other, extract_numpy\u001b[39m=\u001b[39m\u001b[39mTrue\u001b[39;00m, extract_range\u001b[39m=\u001b[39m\u001b[39mTrue\u001b[39;00m)\n\u001b[0;32m   5501\u001b[0m \u001b[39mwith\u001b[39;00m np\u001b[39m.\u001b[39merrstate(\u001b[39mall\u001b[39m\u001b[39m=\u001b[39m\u001b[39m\"\u001b[39m\u001b[39mignore\u001b[39m\u001b[39m\"\u001b[39m):\n\u001b[1;32m-> 5502\u001b[0m     res_values \u001b[39m=\u001b[39m ops\u001b[39m.\u001b[39;49mcomparison_op(lvalues, rvalues, op)\n\u001b[0;32m   5504\u001b[0m \u001b[39mreturn\u001b[39;00m \u001b[39mself\u001b[39m\u001b[39m.\u001b[39m_construct_result(res_values, name\u001b[39m=\u001b[39mres_name)\n",
      "File \u001b[1;32mc:\\python 310\\lib\\site-packages\\pandas\\core\\ops\\array_ops.py:270\u001b[0m, in \u001b[0;36mcomparison_op\u001b[1;34m(left, right, op)\u001b[0m\n\u001b[0;32m    261\u001b[0m         \u001b[39mraise\u001b[39;00m \u001b[39mValueError\u001b[39;00m(\n\u001b[0;32m    262\u001b[0m             \u001b[39m\"\u001b[39m\u001b[39mLengths must match to compare\u001b[39m\u001b[39m\"\u001b[39m, lvalues\u001b[39m.\u001b[39mshape, rvalues\u001b[39m.\u001b[39mshape\n\u001b[0;32m    263\u001b[0m         )\n\u001b[0;32m    265\u001b[0m \u001b[39mif\u001b[39;00m should_extension_dispatch(lvalues, rvalues) \u001b[39mor\u001b[39;00m (\n\u001b[0;32m    266\u001b[0m     (\u001b[39misinstance\u001b[39m(rvalues, (Timedelta, BaseOffset, Timestamp)) \u001b[39mor\u001b[39;00m right \u001b[39mis\u001b[39;00m NaT)\n\u001b[0;32m    267\u001b[0m     \u001b[39mand\u001b[39;00m \u001b[39mnot\u001b[39;00m is_object_dtype(lvalues\u001b[39m.\u001b[39mdtype)\n\u001b[0;32m    268\u001b[0m ):\n\u001b[0;32m    269\u001b[0m     \u001b[39m# Call the method on lvalues\u001b[39;00m\n\u001b[1;32m--> 270\u001b[0m     res_values \u001b[39m=\u001b[39m op(lvalues, rvalues)\n\u001b[0;32m    272\u001b[0m \u001b[39melif\u001b[39;00m is_scalar(rvalues) \u001b[39mand\u001b[39;00m isna(rvalues):\n\u001b[0;32m    273\u001b[0m     \u001b[39m# numpy does not like comparisons vs None\u001b[39;00m\n\u001b[0;32m    274\u001b[0m     \u001b[39mif\u001b[39;00m op \u001b[39mis\u001b[39;00m operator\u001b[39m.\u001b[39mne:\n",
      "File \u001b[1;32mc:\\python 310\\lib\\site-packages\\pandas\\core\\ops\\common.py:69\u001b[0m, in \u001b[0;36m_unpack_zerodim_and_defer.<locals>.new_method\u001b[1;34m(self, other)\u001b[0m\n\u001b[0;32m     65\u001b[0m             \u001b[39mreturn\u001b[39;00m \u001b[39mNotImplemented\u001b[39m\n\u001b[0;32m     67\u001b[0m other \u001b[39m=\u001b[39m item_from_zerodim(other)\n\u001b[1;32m---> 69\u001b[0m \u001b[39mreturn\u001b[39;00m method(\u001b[39mself\u001b[39;49m, other)\n",
      "File \u001b[1;32mc:\\python 310\\lib\\site-packages\\pandas\\core\\arraylike.py:52\u001b[0m, in \u001b[0;36mOpsMixin.__ge__\u001b[1;34m(self, other)\u001b[0m\n\u001b[0;32m     50\u001b[0m \u001b[39m@unpack_zerodim_and_defer\u001b[39m(\u001b[39m\"\u001b[39m\u001b[39m__ge__\u001b[39m\u001b[39m\"\u001b[39m)\n\u001b[0;32m     51\u001b[0m \u001b[39mdef\u001b[39;00m \u001b[39m__ge__\u001b[39m(\u001b[39mself\u001b[39m, other):\n\u001b[1;32m---> 52\u001b[0m     \u001b[39mreturn\u001b[39;00m \u001b[39mself\u001b[39;49m\u001b[39m.\u001b[39;49m_cmp_method(other, operator\u001b[39m.\u001b[39;49mge)\n",
      "File \u001b[1;32mc:\\python 310\\lib\\site-packages\\pandas\\core\\arrays\\datetimelike.py:1010\u001b[0m, in \u001b[0;36mDatetimeLikeArrayMixin._cmp_method\u001b[1;34m(self, other, op)\u001b[0m\n\u001b[0;32m   1008\u001b[0m     other \u001b[39m=\u001b[39m \u001b[39mself\u001b[39m\u001b[39m.\u001b[39m_validate_comparison_value(other)\n\u001b[0;32m   1009\u001b[0m \u001b[39mexcept\u001b[39;00m InvalidComparison:\n\u001b[1;32m-> 1010\u001b[0m     \u001b[39mreturn\u001b[39;00m invalid_comparison(\u001b[39mself\u001b[39;49m, other, op)\n\u001b[0;32m   1012\u001b[0m dtype \u001b[39m=\u001b[39m \u001b[39mgetattr\u001b[39m(other, \u001b[39m\"\u001b[39m\u001b[39mdtype\u001b[39m\u001b[39m\"\u001b[39m, \u001b[39mNone\u001b[39;00m)\n\u001b[0;32m   1013\u001b[0m \u001b[39mif\u001b[39;00m is_object_dtype(dtype):\n\u001b[0;32m   1014\u001b[0m     \u001b[39m# We have to use comp_method_OBJECT_ARRAY instead of numpy\u001b[39;00m\n\u001b[0;32m   1015\u001b[0m     \u001b[39m#  comparison otherwise it would fail to raise when\u001b[39;00m\n\u001b[0;32m   1016\u001b[0m     \u001b[39m#  comparing tz-aware and tz-naive\u001b[39;00m\n",
      "File \u001b[1;32mc:\\python 310\\lib\\site-packages\\pandas\\core\\ops\\invalid.py:34\u001b[0m, in \u001b[0;36minvalid_comparison\u001b[1;34m(left, right, op)\u001b[0m\n\u001b[0;32m     32\u001b[0m \u001b[39melse\u001b[39;00m:\n\u001b[0;32m     33\u001b[0m     typ \u001b[39m=\u001b[39m \u001b[39mtype\u001b[39m(right)\u001b[39m.\u001b[39m\u001b[39m__name__\u001b[39m\n\u001b[1;32m---> 34\u001b[0m     \u001b[39mraise\u001b[39;00m \u001b[39mTypeError\u001b[39;00m(\u001b[39mf\u001b[39m\u001b[39m\"\u001b[39m\u001b[39mInvalid comparison between dtype=\u001b[39m\u001b[39m{\u001b[39;00mleft\u001b[39m.\u001b[39mdtype\u001b[39m}\u001b[39;00m\u001b[39m and \u001b[39m\u001b[39m{\u001b[39;00mtyp\u001b[39m}\u001b[39;00m\u001b[39m\"\u001b[39m)\n\u001b[0;32m     35\u001b[0m \u001b[39mreturn\u001b[39;00m res_values\n",
      "\u001b[1;31mTypeError\u001b[0m: Invalid comparison between dtype=datetime64[ns] and Timestamp"
     ]
    }
   ],
   "source": [
    "current_time = pd.to_datetime(\"2023-01-25 18:59:59.47922 UTC\")\n",
    "start_of_last_hour = current_time - pd.DateOffset(hours=10)\n",
    "start_of_last_hour = pd.to_datetime(start_of_last_hour)\n",
    "mask = (df['store_id'] == 3243389630626839262) & (df['timestamp_utc'] >= start_of_last_hour)\n",
    "filtered_df = df[mask]\n"
   ]
  }
 ],
 "metadata": {
  "kernelspec": {
   "display_name": "Python 3",
   "language": "python",
   "name": "python3"
  },
  "language_info": {
   "codemirror_mode": {
    "name": "ipython",
    "version": 3
   },
   "file_extension": ".py",
   "mimetype": "text/x-python",
   "name": "python",
   "nbconvert_exporter": "python",
   "pygments_lexer": "ipython3",
   "version": "3.10.1"
  },
  "orig_nbformat": 4
 },
 "nbformat": 4,
 "nbformat_minor": 2
}
