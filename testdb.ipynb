{
 "cells": [
  {
   "cell_type": "code",
   "execution_count": 6,
   "metadata": {},
   "outputs": [],
   "source": [
    "import psycopg2\n",
    "import pandas as pd"
   ]
  },
  {
   "cell_type": "code",
   "execution_count": 10,
   "metadata": {},
   "outputs": [],
   "source": [
    "conn = psycopg2.connect(\n",
    "    host=\"localhost\",\n",
    "    database=\"Restaurant_info\",\n",
    "    user=\"postgres\",\n",
    "    password=\"root@123\"\n",
    ")\n",
    "\n",
    "# Create a cursor object to execute SQL queries\n",
    "cursor = conn.cursor()\n",
    "\n",
    "# Define the query parameters\n",
    "store_id = 4430370444829587327\t\n",
    "start_timestamp = '2023-01-25 20:00:00'\n",
    "end_timestamp = '2023-01-25 20:59:59'\n",
    "\n",
    "# Construct the SQL query\n",
    "query = \"\"\"\n",
    "    SELECT *\n",
    "    FROM recent_status\n",
    "    WHERE store_id = %s\n",
    "      AND timestamp_utc >= %s\n",
    "      AND timestamp_utc <= %s;\n",
    "\"\"\"\n",
    "\n",
    "# Execute the query with the provided parameters\n",
    "cursor.execute(query, (store_id, start_timestamp, end_timestamp))\n",
    "\n",
    "# Fetch all the rows from the query result\n",
    "rows = cursor.fetchall()"
   ]
  },
  {
   "cell_type": "code",
   "execution_count": 34,
   "metadata": {},
   "outputs": [
    {
     "data": {
      "text/html": [
       "<div>\n",
       "<style scoped>\n",
       "    .dataframe tbody tr th:only-of-type {\n",
       "        vertical-align: middle;\n",
       "    }\n",
       "\n",
       "    .dataframe tbody tr th {\n",
       "        vertical-align: top;\n",
       "    }\n",
       "\n",
       "    .dataframe thead th {\n",
       "        text-align: right;\n",
       "    }\n",
       "</style>\n",
       "<table border=\"1\" class=\"dataframe\">\n",
       "  <thead>\n",
       "    <tr style=\"text-align: right;\">\n",
       "      <th></th>\n",
       "      <th>Store_id</th>\n",
       "      <th>Status</th>\n",
       "      <th>TimeStamp</th>\n",
       "    </tr>\n",
       "  </thead>\n",
       "  <tbody>\n",
       "    <tr>\n",
       "      <th>0</th>\n",
       "      <td>4430370444829587327</td>\n",
       "      <td>active</td>\n",
       "      <td>2023-01-25 20:31:12.481962+05:30</td>\n",
       "    </tr>\n",
       "  </tbody>\n",
       "</table>\n",
       "</div>"
      ],
      "text/plain": [
       "              Store_id  Status                        TimeStamp\n",
       "0  4430370444829587327  active 2023-01-25 20:31:12.481962+05:30"
      ]
     },
     "execution_count": 34,
     "metadata": {},
     "output_type": "execute_result"
    }
   ],
   "source": [
    "columns = [\"Store_id\", \"Status\",\"TimeStamp\"]\n",
    "queries = pd.DataFrame(rows,columns=columns)\n",
    "queries"
   ]
  },
  {
   "cell_type": "code",
   "execution_count": 32,
   "metadata": {},
   "outputs": [
    {
     "data": {
      "text/plain": [
       "0   2023-01-25 20:31:12.481962+05:30\n",
       "Name: TimeStamp, dtype: datetime64[ns, UTC+05:30]"
      ]
     },
     "execution_count": 32,
     "metadata": {},
     "output_type": "execute_result"
    }
   ],
   "source": [
    "queries['TimeStamp']"
   ]
  },
  {
   "cell_type": "code",
   "execution_count": 50,
   "metadata": {},
   "outputs": [
    {
     "data": {
      "text/html": [
       "<div>\n",
       "<style scoped>\n",
       "    .dataframe tbody tr th:only-of-type {\n",
       "        vertical-align: middle;\n",
       "    }\n",
       "\n",
       "    .dataframe tbody tr th {\n",
       "        vertical-align: top;\n",
       "    }\n",
       "\n",
       "    .dataframe thead th {\n",
       "        text-align: right;\n",
       "    }\n",
       "</style>\n",
       "<table border=\"1\" class=\"dataframe\">\n",
       "  <thead>\n",
       "    <tr style=\"text-align: right;\">\n",
       "      <th></th>\n",
       "      <th>store_id</th>\n",
       "      <th>day</th>\n",
       "      <th>start_time_local</th>\n",
       "      <th>end_time_local</th>\n",
       "    </tr>\n",
       "  </thead>\n",
       "  <tbody>\n",
       "    <tr>\n",
       "      <th>0</th>\n",
       "      <td>1481966498820158979</td>\n",
       "      <td>4</td>\n",
       "      <td>2023-06-04 04:00:00</td>\n",
       "      <td>2023-06-04 04:10:00</td>\n",
       "    </tr>\n",
       "    <tr>\n",
       "      <th>1</th>\n",
       "      <td>1481966498820158979</td>\n",
       "      <td>2</td>\n",
       "      <td>2023-06-04 04:00:00</td>\n",
       "      <td>2023-06-04 04:10:00</td>\n",
       "    </tr>\n",
       "    <tr>\n",
       "      <th>2</th>\n",
       "      <td>1481966498820158979</td>\n",
       "      <td>0</td>\n",
       "      <td>2023-06-04 04:00:00</td>\n",
       "      <td>2023-06-04 04:10:00</td>\n",
       "    </tr>\n",
       "    <tr>\n",
       "      <th>3</th>\n",
       "      <td>1481966498820158979</td>\n",
       "      <td>1</td>\n",
       "      <td>2023-06-04 04:00:00</td>\n",
       "      <td>2023-06-04 04:10:00</td>\n",
       "    </tr>\n",
       "    <tr>\n",
       "      <th>4</th>\n",
       "      <td>1481966498820158979</td>\n",
       "      <td>5</td>\n",
       "      <td>2023-06-04 04:00:00</td>\n",
       "      <td>2023-06-04 04:10:00</td>\n",
       "    </tr>\n",
       "    <tr>\n",
       "      <th>...</th>\n",
       "      <td>...</td>\n",
       "      <td>...</td>\n",
       "      <td>...</td>\n",
       "      <td>...</td>\n",
       "    </tr>\n",
       "    <tr>\n",
       "      <th>86193</th>\n",
       "      <td>1774428314218854399</td>\n",
       "      <td>4</td>\n",
       "      <td>2023-06-04 04:00:00</td>\n",
       "      <td>2023-06-05 03:59:59</td>\n",
       "    </tr>\n",
       "    <tr>\n",
       "      <th>86194</th>\n",
       "      <td>1774428314218854399</td>\n",
       "      <td>6</td>\n",
       "      <td>2023-06-04 04:00:00</td>\n",
       "      <td>2023-06-05 03:59:59</td>\n",
       "    </tr>\n",
       "    <tr>\n",
       "      <th>86195</th>\n",
       "      <td>1774428314218854399</td>\n",
       "      <td>3</td>\n",
       "      <td>2023-06-04 04:00:00</td>\n",
       "      <td>2023-06-05 03:59:59</td>\n",
       "    </tr>\n",
       "    <tr>\n",
       "      <th>86196</th>\n",
       "      <td>1774428314218854399</td>\n",
       "      <td>2</td>\n",
       "      <td>2023-06-04 04:00:00</td>\n",
       "      <td>2023-06-05 03:59:59</td>\n",
       "    </tr>\n",
       "    <tr>\n",
       "      <th>86197</th>\n",
       "      <td>1774428314218854399</td>\n",
       "      <td>1</td>\n",
       "      <td>2023-06-04 04:00:00</td>\n",
       "      <td>2023-06-05 03:59:59</td>\n",
       "    </tr>\n",
       "  </tbody>\n",
       "</table>\n",
       "<p>86198 rows × 4 columns</p>\n",
       "</div>"
      ],
      "text/plain": [
       "                  store_id  day     start_time_local       end_time_local\n",
       "0      1481966498820158979    4  2023-06-04 04:00:00  2023-06-04 04:10:00\n",
       "1      1481966498820158979    2  2023-06-04 04:00:00  2023-06-04 04:10:00\n",
       "2      1481966498820158979    0  2023-06-04 04:00:00  2023-06-04 04:10:00\n",
       "3      1481966498820158979    1  2023-06-04 04:00:00  2023-06-04 04:10:00\n",
       "4      1481966498820158979    5  2023-06-04 04:00:00  2023-06-04 04:10:00\n",
       "...                    ...  ...                  ...                  ...\n",
       "86193  1774428314218854399    4  2023-06-04 04:00:00  2023-06-05 03:59:59\n",
       "86194  1774428314218854399    6  2023-06-04 04:00:00  2023-06-05 03:59:59\n",
       "86195  1774428314218854399    3  2023-06-04 04:00:00  2023-06-05 03:59:59\n",
       "86196  1774428314218854399    2  2023-06-04 04:00:00  2023-06-05 03:59:59\n",
       "86197  1774428314218854399    1  2023-06-04 04:00:00  2023-06-05 03:59:59\n",
       "\n",
       "[86198 rows x 4 columns]"
      ]
     },
     "execution_count": 50,
     "metadata": {},
     "output_type": "execute_result"
    }
   ],
   "source": [
    "safety = pd.read_csv('utc active times.csv')\n",
    "safety"
   ]
  },
  {
   "cell_type": "code",
   "execution_count": 51,
   "metadata": {},
   "outputs": [],
   "source": [
    "df = safety\n",
    "def calculate_active_time(store_id, day, current_time):\n",
    "    # Filter the dataframe based on store ID and day\n",
    "    filtered_df = df[(df['store_id'] == store_id) & (df['day'] == day)]\n",
    "    \n",
    "    if filtered_df.empty:\n",
    "        return 0, 0, 0\n",
    "    \n",
    "    start_times = filtered_df['start_time_local']\n",
    "    end_times = filtered_df['end_time_local']\n",
    "    \n",
    "    # Calculate active time in the last hour\n",
    "    last_hour_active_time = sum((current_time - start_times <= pd.Timedelta(hours=1)) & (end_times >= current_time))\n",
    "    \n",
    "    # Calculate active time in the last day\n",
    "    last_day_active_time = sum((current_time - start_times <= pd.Timedelta(days=1)) & (end_times >= current_time))\n",
    "    \n",
    "    # Calculate active time in the last week\n",
    "    last_week_active_time = sum((current_time - start_times <= pd.Timedelta(weeks=1)) & (end_times >= current_time))\n",
    "    \n",
    "    return last_hour_active_time, last_day_active_time, last_week_active_time\n",
    "\n"
   ]
  },
  {
   "cell_type": "code",
   "execution_count": 52,
   "metadata": {},
   "outputs": [
    {
     "ename": "TypeError",
     "evalue": "unsupported operand type(s) for -: 'str' and 'str'",
     "output_type": "error",
     "traceback": [
      "\u001b[1;31m---------------------------------------------------------------------------\u001b[0m",
      "\u001b[1;31mTypeError\u001b[0m                                 Traceback (most recent call last)",
      "File \u001b[1;32mc:\\python 310\\lib\\site-packages\\pandas\\core\\ops\\array_ops.py:166\u001b[0m, in \u001b[0;36m_na_arithmetic_op\u001b[1;34m(left, right, op, is_cmp)\u001b[0m\n\u001b[0;32m    165\u001b[0m \u001b[39mtry\u001b[39;00m:\n\u001b[1;32m--> 166\u001b[0m     result \u001b[39m=\u001b[39m func(left, right)\n\u001b[0;32m    167\u001b[0m \u001b[39mexcept\u001b[39;00m \u001b[39mTypeError\u001b[39;00m:\n",
      "File \u001b[1;32mc:\\python 310\\lib\\site-packages\\pandas\\core\\roperator.py:13\u001b[0m, in \u001b[0;36mrsub\u001b[1;34m(left, right)\u001b[0m\n\u001b[0;32m     12\u001b[0m \u001b[39mdef\u001b[39;00m \u001b[39mrsub\u001b[39m(left, right):\n\u001b[1;32m---> 13\u001b[0m     \u001b[39mreturn\u001b[39;00m right \u001b[39m-\u001b[39;49m left\n",
      "\u001b[1;31mTypeError\u001b[0m: unsupported operand type(s) for -: 'str' and 'str'",
      "\nDuring handling of the above exception, another exception occurred:\n",
      "\u001b[1;31mTypeError\u001b[0m                                 Traceback (most recent call last)",
      "\u001b[1;32mc:\\Users\\91965\\Downloads\\loopkitchen\\testdb.ipynb Cell 7\u001b[0m in \u001b[0;36m<module>\u001b[1;34m\u001b[0m\n\u001b[1;32m----> <a href='vscode-notebook-cell:/c%3A/Users/91965/Downloads/loopkitchen/testdb.ipynb#X10sZmlsZQ%3D%3D?line=0'>1</a>\u001b[0m calculate_active_time(\u001b[39m1481966498820158979\u001b[39;49m,\u001b[39m4\u001b[39;49m,\u001b[39m\"\u001b[39;49m\u001b[39m2023-06-04 04:09:00\u001b[39;49m\u001b[39m\"\u001b[39;49m)\n",
      "\u001b[1;32mc:\\Users\\91965\\Downloads\\loopkitchen\\testdb.ipynb Cell 7\u001b[0m in \u001b[0;36mcalculate_active_time\u001b[1;34m(store_id, day, current_time)\u001b[0m\n\u001b[0;32m     <a href='vscode-notebook-cell:/c%3A/Users/91965/Downloads/loopkitchen/testdb.ipynb#X10sZmlsZQ%3D%3D?line=9'>10</a>\u001b[0m end_times \u001b[39m=\u001b[39m filtered_df[\u001b[39m'\u001b[39m\u001b[39mend_time_local\u001b[39m\u001b[39m'\u001b[39m]\n\u001b[0;32m     <a href='vscode-notebook-cell:/c%3A/Users/91965/Downloads/loopkitchen/testdb.ipynb#X10sZmlsZQ%3D%3D?line=11'>12</a>\u001b[0m \u001b[39m# Calculate active time in the last hour\u001b[39;00m\n\u001b[1;32m---> <a href='vscode-notebook-cell:/c%3A/Users/91965/Downloads/loopkitchen/testdb.ipynb#X10sZmlsZQ%3D%3D?line=12'>13</a>\u001b[0m last_hour_active_time \u001b[39m=\u001b[39m \u001b[39msum\u001b[39m((current_time \u001b[39m-\u001b[39;49m start_times \u001b[39m<\u001b[39m\u001b[39m=\u001b[39m pd\u001b[39m.\u001b[39mTimedelta(hours\u001b[39m=\u001b[39m\u001b[39m1\u001b[39m)) \u001b[39m&\u001b[39m (end_times \u001b[39m>\u001b[39m\u001b[39m=\u001b[39m current_time))\n\u001b[0;32m     <a href='vscode-notebook-cell:/c%3A/Users/91965/Downloads/loopkitchen/testdb.ipynb#X10sZmlsZQ%3D%3D?line=14'>15</a>\u001b[0m \u001b[39m# Calculate active time in the last day\u001b[39;00m\n\u001b[0;32m     <a href='vscode-notebook-cell:/c%3A/Users/91965/Downloads/loopkitchen/testdb.ipynb#X10sZmlsZQ%3D%3D?line=15'>16</a>\u001b[0m last_day_active_time \u001b[39m=\u001b[39m \u001b[39msum\u001b[39m((current_time \u001b[39m-\u001b[39m start_times \u001b[39m<\u001b[39m\u001b[39m=\u001b[39m pd\u001b[39m.\u001b[39mTimedelta(days\u001b[39m=\u001b[39m\u001b[39m1\u001b[39m)) \u001b[39m&\u001b[39m (end_times \u001b[39m>\u001b[39m\u001b[39m=\u001b[39m current_time))\n",
      "File \u001b[1;32mc:\\python 310\\lib\\site-packages\\pandas\\core\\ops\\common.py:69\u001b[0m, in \u001b[0;36m_unpack_zerodim_and_defer.<locals>.new_method\u001b[1;34m(self, other)\u001b[0m\n\u001b[0;32m     65\u001b[0m             \u001b[39mreturn\u001b[39;00m \u001b[39mNotImplemented\u001b[39m\n\u001b[0;32m     67\u001b[0m other \u001b[39m=\u001b[39m item_from_zerodim(other)\n\u001b[1;32m---> 69\u001b[0m \u001b[39mreturn\u001b[39;00m method(\u001b[39mself\u001b[39;49m, other)\n",
      "File \u001b[1;32mc:\\python 310\\lib\\site-packages\\pandas\\core\\arraylike.py:104\u001b[0m, in \u001b[0;36mOpsMixin.__rsub__\u001b[1;34m(self, other)\u001b[0m\n\u001b[0;32m    102\u001b[0m \u001b[39m@unpack_zerodim_and_defer\u001b[39m(\u001b[39m\"\u001b[39m\u001b[39m__rsub__\u001b[39m\u001b[39m\"\u001b[39m)\n\u001b[0;32m    103\u001b[0m \u001b[39mdef\u001b[39;00m \u001b[39m__rsub__\u001b[39m(\u001b[39mself\u001b[39m, other):\n\u001b[1;32m--> 104\u001b[0m     \u001b[39mreturn\u001b[39;00m \u001b[39mself\u001b[39;49m\u001b[39m.\u001b[39;49m_arith_method(other, roperator\u001b[39m.\u001b[39;49mrsub)\n",
      "File \u001b[1;32mc:\\python 310\\lib\\site-packages\\pandas\\core\\series.py:5526\u001b[0m, in \u001b[0;36mSeries._arith_method\u001b[1;34m(self, other, op)\u001b[0m\n\u001b[0;32m   5523\u001b[0m rvalues \u001b[39m=\u001b[39m ensure_wrapped_if_datetimelike(rvalues)\n\u001b[0;32m   5525\u001b[0m \u001b[39mwith\u001b[39;00m np\u001b[39m.\u001b[39merrstate(\u001b[39mall\u001b[39m\u001b[39m=\u001b[39m\u001b[39m\"\u001b[39m\u001b[39mignore\u001b[39m\u001b[39m\"\u001b[39m):\n\u001b[1;32m-> 5526\u001b[0m     result \u001b[39m=\u001b[39m ops\u001b[39m.\u001b[39;49marithmetic_op(lvalues, rvalues, op)\n\u001b[0;32m   5528\u001b[0m \u001b[39mreturn\u001b[39;00m \u001b[39mself\u001b[39m\u001b[39m.\u001b[39m_construct_result(result, name\u001b[39m=\u001b[39mres_name)\n",
      "File \u001b[1;32mc:\\python 310\\lib\\site-packages\\pandas\\core\\ops\\array_ops.py:224\u001b[0m, in \u001b[0;36marithmetic_op\u001b[1;34m(left, right, op)\u001b[0m\n\u001b[0;32m    219\u001b[0m \u001b[39melse\u001b[39;00m:\n\u001b[0;32m    220\u001b[0m     \u001b[39m# TODO we should handle EAs consistently and move this check before the if/else\u001b[39;00m\n\u001b[0;32m    221\u001b[0m     \u001b[39m# (https://github.com/pandas-dev/pandas/issues/41165)\u001b[39;00m\n\u001b[0;32m    222\u001b[0m     _bool_arith_check(op, left, right)\n\u001b[1;32m--> 224\u001b[0m     res_values \u001b[39m=\u001b[39m _na_arithmetic_op(left, right, op)\n\u001b[0;32m    226\u001b[0m \u001b[39mreturn\u001b[39;00m res_values\n",
      "File \u001b[1;32mc:\\python 310\\lib\\site-packages\\pandas\\core\\ops\\array_ops.py:173\u001b[0m, in \u001b[0;36m_na_arithmetic_op\u001b[1;34m(left, right, op, is_cmp)\u001b[0m\n\u001b[0;32m    167\u001b[0m \u001b[39mexcept\u001b[39;00m \u001b[39mTypeError\u001b[39;00m:\n\u001b[0;32m    168\u001b[0m     \u001b[39mif\u001b[39;00m is_object_dtype(left) \u001b[39mor\u001b[39;00m is_object_dtype(right) \u001b[39mand\u001b[39;00m \u001b[39mnot\u001b[39;00m is_cmp:\n\u001b[0;32m    169\u001b[0m         \u001b[39m# For object dtype, fallback to a masked operation (only operating\u001b[39;00m\n\u001b[0;32m    170\u001b[0m         \u001b[39m#  on the non-missing values)\u001b[39;00m\n\u001b[0;32m    171\u001b[0m         \u001b[39m# Don't do this for comparisons, as that will handle complex numbers\u001b[39;00m\n\u001b[0;32m    172\u001b[0m         \u001b[39m#  incorrectly, see GH#32047\u001b[39;00m\n\u001b[1;32m--> 173\u001b[0m         result \u001b[39m=\u001b[39m _masked_arith_op(left, right, op)\n\u001b[0;32m    174\u001b[0m     \u001b[39melse\u001b[39;00m:\n\u001b[0;32m    175\u001b[0m         \u001b[39mraise\u001b[39;00m\n",
      "File \u001b[1;32mc:\\python 310\\lib\\site-packages\\pandas\\core\\ops\\array_ops.py:131\u001b[0m, in \u001b[0;36m_masked_arith_op\u001b[1;34m(x, y, op)\u001b[0m\n\u001b[0;32m    128\u001b[0m         mask \u001b[39m=\u001b[39m np\u001b[39m.\u001b[39mwhere(y \u001b[39m==\u001b[39m \u001b[39m1\u001b[39m, \u001b[39mFalse\u001b[39;00m, mask)\n\u001b[0;32m    130\u001b[0m     \u001b[39mif\u001b[39;00m mask\u001b[39m.\u001b[39many():\n\u001b[1;32m--> 131\u001b[0m         result[mask] \u001b[39m=\u001b[39m op(xrav[mask], y)\n\u001b[0;32m    133\u001b[0m np\u001b[39m.\u001b[39mputmask(result, \u001b[39m~\u001b[39mmask, np\u001b[39m.\u001b[39mnan)\n\u001b[0;32m    134\u001b[0m result \u001b[39m=\u001b[39m result\u001b[39m.\u001b[39mreshape(x\u001b[39m.\u001b[39mshape)  \u001b[39m# 2D compat\u001b[39;00m\n",
      "File \u001b[1;32mc:\\python 310\\lib\\site-packages\\pandas\\core\\roperator.py:13\u001b[0m, in \u001b[0;36mrsub\u001b[1;34m(left, right)\u001b[0m\n\u001b[0;32m     12\u001b[0m \u001b[39mdef\u001b[39;00m \u001b[39mrsub\u001b[39m(left, right):\n\u001b[1;32m---> 13\u001b[0m     \u001b[39mreturn\u001b[39;00m right \u001b[39m-\u001b[39;49m left\n",
      "\u001b[1;31mTypeError\u001b[0m: unsupported operand type(s) for -: 'str' and 'str'"
     ]
    }
   ],
   "source": [
    "calculate_active_time(1481966498820158979,4,\"2023-06-04 04:09:00\")"
   ]
  },
  {
   "cell_type": "code",
   "execution_count": 43,
   "metadata": {},
   "outputs": [
    {
     "data": {
      "text/plain": [
       "True"
      ]
     },
     "execution_count": 43,
     "metadata": {},
     "output_type": "execute_result"
    }
   ],
   "source": []
  }
 ],
 "metadata": {
  "kernelspec": {
   "display_name": "Python 3",
   "language": "python",
   "name": "python3"
  },
  "language_info": {
   "codemirror_mode": {
    "name": "ipython",
    "version": 3
   },
   "file_extension": ".py",
   "mimetype": "text/x-python",
   "name": "python",
   "nbconvert_exporter": "python",
   "pygments_lexer": "ipython3",
   "version": "3.10.1"
  },
  "orig_nbformat": 4
 },
 "nbformat": 4,
 "nbformat_minor": 2
}
